{
  "nbformat": 4,
  "nbformat_minor": 0,
  "metadata": {
    "colab": {
      "provenance": [],
      "include_colab_link": true
    },
    "kernelspec": {
      "name": "python3",
      "display_name": "Python 3"
    },
    "language_info": {
      "name": "python"
    }
  },
  "cells": [
    {
      "cell_type": "markdown",
      "metadata": {
        "id": "view-in-github",
        "colab_type": "text"
      },
      "source": [
        "<a href=\"https://colab.research.google.com/github/PreetiDileep/OpenAI/blob/main/LogOpenAI.ipynb\" target=\"_parent\"><img src=\"https://colab.research.google.com/assets/colab-badge.svg\" alt=\"Open In Colab\"/></a>"
      ]
    },
    {
      "cell_type": "markdown",
      "source": [
        "#Langchain\n"
      ],
      "metadata": {
        "id": "i7RNuCIqZht_"
      }
    },
    {
      "cell_type": "markdown",
      "source": [],
      "metadata": {
        "id": "1PO5jG_8lG5U"
      }
    },
    {
      "cell_type": "markdown",
      "source": [],
      "metadata": {
        "id": "i2gYAKGMOW1b"
      }
    },
    {
      "cell_type": "code",
      "source": [],
      "metadata": {
        "id": "PvncUH_HciMH"
      },
      "execution_count": null,
      "outputs": []
    },
    {
      "cell_type": "markdown",
      "source": [
        "Respo"
      ],
      "metadata": {
        "id": "K8YGfGz8cgtH"
      }
    },
    {
      "cell_type": "markdown",
      "source": [
        "### Installing Helper Packages"
      ],
      "metadata": {
        "id": "-jiEGfY_SwG6"
      }
    },
    {
      "cell_type": "code",
      "source": [],
      "metadata": {
        "id": "fK3hsDc9GpUL"
      },
      "execution_count": null,
      "outputs": []
    },
    {
      "cell_type": "markdown",
      "source": [
        "### Load and Prepare PDF"
      ],
      "metadata": {
        "id": "2uVNip_NSzBV"
      }
    },
    {
      "cell_type": "code",
      "source": [
        "!pip install -qU langchain-openai"
      ],
      "metadata": {
        "id": "Xb7igomp8wLt"
      },
      "execution_count": null,
      "outputs": []
    },
    {
      "cell_type": "code",
      "source": [
        "AZURE_OPENAI_ENDPOINT = \"https://pikapika.openai.azure.com/\"\n",
        "AZURE_OPENAI_EMBEDDINGS_ENDPOINT=\"https://pikapika.openai.azure.com/openai/deployments/text-embedding-ada-002/embeddings?api-version=2023-05-15\"\n",
        "AZURE_OPENAI_DEPLOYMENT_NAME = \"mygpt\"\n",
        "AZURE_OPENAI_API_VERSION = \"2024-06-01\"\n",
        "AZURE_OPENAI_API_KEY = \"\"\n"
      ],
      "metadata": {
        "id": "5-J_smoX9fMg"
      },
      "execution_count": null,
      "outputs": []
    },
    {
      "cell_type": "markdown",
      "source": [],
      "metadata": {
        "id": "Rkg1zORmESPK"
      }
    },
    {
      "cell_type": "markdown",
      "source": [
        "Adding Azure Configurations to environment variables"
      ],
      "metadata": {
        "id": "EaqqR0spTUey"
      }
    },
    {
      "cell_type": "code",
      "source": [
        "import os\n",
        "os.environ[\"AZURE_OPENAI_ENDPOINT\"] = AZURE_OPENAI_ENDPOINT\n",
        "os.environ[\"AZURE_OPENAI_DEPLOYMENT_NAME\"] = AZURE_OPENAI_DEPLOYMENT_NAME\n",
        "os.environ[\"AZURE_OPENAI_API_VERSION\"] = AZURE_OPENAI_API_VERSION\n",
        "os.environ[\"AZURE_OPENAI_EMBEDDINGS_ENDPOINT\"] = AZURE_OPENAI_EMBEDDINGS_ENDPOINT\n",
        "os.environ[\"AZURE_OPENAI_API_KEY\"] = AZURE_OPENAI_API_KEY\n"
      ],
      "metadata": {
        "id": "cdc2iY5D9qwy"
      },
      "execution_count": null,
      "outputs": []
    },
    {
      "cell_type": "markdown",
      "source": [
        "### Create Chat Model Instance"
      ],
      "metadata": {
        "id": "kfh4EBEKTabj"
      }
    },
    {
      "cell_type": "code",
      "source": [
        "from langchain_openai import AzureChatOpenAI"
      ],
      "metadata": {
        "id": "7o1T3EVE-Xhm"
      },
      "execution_count": null,
      "outputs": []
    },
    {
      "cell_type": "code",
      "source": [
        "model = AzureChatOpenAI(\n",
        "    azure_endpoint = os.environ[\"AZURE_OPENAI_ENDPOINT\"],\n",
        "    azure_deployment = os.environ[\"AZURE_OPENAI_DEPLOYMENT_NAME\"],\n",
        "    openai_api_version = os.environ[\"AZURE_OPENAI_API_VERSION\"]\n",
        ")"
      ],
      "metadata": {
        "id": "ieJzZ65R-dZq"
      },
      "execution_count": null,
      "outputs": []
    },
    {
      "cell_type": "markdown",
      "source": [
        "### Preprocess PDF"
      ],
      "metadata": {
        "id": "i_BGI6u7U8pH"
      }
    },
    {
      "cell_type": "markdown",
      "source": [
        "Installing Chroma for Vector DB support"
      ],
      "metadata": {
        "id": "_DUVrjCyTvUo"
      }
    },
    {
      "cell_type": "code",
      "source": [
        "!pip install -qU langchain_chroma"
      ],
      "metadata": {
        "id": "lwxdudHH-jnK",
        "colab": {
          "base_uri": "https://localhost:8080/"
        },
        "outputId": "88ae5ee2-247e-4a4d-9f72-420ac780cb90"
      },
      "execution_count": null,
      "outputs": [
        {
          "output_type": "stream",
          "name": "stdout",
          "text": [
            "\u001b[?25l     \u001b[90m━━━━━━━━━━━━━━━━━━━━━━━━━━━━━━━━━━━━━━━━\u001b[0m \u001b[32m0.0/67.3 kB\u001b[0m \u001b[31m?\u001b[0m eta \u001b[36m-:--:--\u001b[0m\r\u001b[2K     \u001b[90m━━━━━━━━━━━━━━━━━━━━━━━━━━━━━━━━━━━━━━━━\u001b[0m \u001b[32m67.3/67.3 kB\u001b[0m \u001b[31m1.9 MB/s\u001b[0m eta \u001b[36m0:00:00\u001b[0m\n",
            "\u001b[?25h  Installing build dependencies ... \u001b[?25l\u001b[?25hdone\n",
            "  Getting requirements to build wheel ... \u001b[?25l\u001b[?25hdone\n",
            "  Preparing metadata (pyproject.toml) ... \u001b[?25l\u001b[?25hdone\n",
            "\u001b[2K   \u001b[90m━━━━━━━━━━━━━━━━━━━━━━━━━━━━━━━━━━━━━━━━\u001b[0m \u001b[32m559.5/559.5 kB\u001b[0m \u001b[31m10.4 MB/s\u001b[0m eta \u001b[36m0:00:00\u001b[0m\n",
            "\u001b[2K   \u001b[90m━━━━━━━━━━━━━━━━━━━━━━━━━━━━━━━━━━━━━━━━\u001b[0m \u001b[32m2.4/2.4 MB\u001b[0m \u001b[31m44.0 MB/s\u001b[0m eta \u001b[36m0:00:00\u001b[0m\n",
            "\u001b[2K   \u001b[90m━━━━━━━━━━━━━━━━━━━━━━━━━━━━━━━━━━━━━━━━\u001b[0m \u001b[32m93.4/93.4 kB\u001b[0m \u001b[31m7.9 MB/s\u001b[0m eta \u001b[36m0:00:00\u001b[0m\n",
            "\u001b[2K   \u001b[90m━━━━━━━━━━━━━━━━━━━━━━━━━━━━━━━━━━━━━━━━\u001b[0m \u001b[32m273.8/273.8 kB\u001b[0m \u001b[31m20.2 MB/s\u001b[0m eta \u001b[36m0:00:00\u001b[0m\n",
            "\u001b[2K   \u001b[90m━━━━━━━━━━━━━━━━━━━━━━━━━━━━━━━━━━━━━━━━\u001b[0m \u001b[32m1.7/1.7 MB\u001b[0m \u001b[31m68.2 MB/s\u001b[0m eta \u001b[36m0:00:00\u001b[0m\n",
            "\u001b[2K   \u001b[90m━━━━━━━━━━━━━━━━━━━━━━━━━━━━━━━━━━━━━━━━\u001b[0m \u001b[32m67.6/67.6 kB\u001b[0m \u001b[31m5.5 MB/s\u001b[0m eta \u001b[36m0:00:00\u001b[0m\n",
            "\u001b[2K   \u001b[90m━━━━━━━━━━━━━━━━━━━━━━━━━━━━━━━━━━━━━━━━\u001b[0m \u001b[32m13.2/13.2 MB\u001b[0m \u001b[31m82.8 MB/s\u001b[0m eta \u001b[36m0:00:00\u001b[0m\n",
            "\u001b[2K   \u001b[90m━━━━━━━━━━━━━━━━━━━━━━━━━━━━━━━━━━━━━━━━\u001b[0m \u001b[32m64.0/64.0 kB\u001b[0m \u001b[31m4.7 MB/s\u001b[0m eta \u001b[36m0:00:00\u001b[0m\n",
            "\u001b[2K   \u001b[90m━━━━━━━━━━━━━━━━━━━━━━━━━━━━━━━━━━━━━━━━\u001b[0m \u001b[32m52.5/52.5 kB\u001b[0m \u001b[31m3.8 MB/s\u001b[0m eta \u001b[36m0:00:00\u001b[0m\n",
            "\u001b[2K   \u001b[90m━━━━━━━━━━━━━━━━━━━━━━━━━━━━━━━━━━━━━━━━\u001b[0m \u001b[32m149.7/149.7 kB\u001b[0m \u001b[31m12.1 MB/s\u001b[0m eta \u001b[36m0:00:00\u001b[0m\n",
            "\u001b[2K   \u001b[90m━━━━━━━━━━━━━━━━━━━━━━━━━━━━━━━━━━━━━━━━\u001b[0m \u001b[32m110.5/110.5 kB\u001b[0m \u001b[31m8.4 MB/s\u001b[0m eta \u001b[36m0:00:00\u001b[0m\n",
            "\u001b[2K   \u001b[90m━━━━━━━━━━━━━━━━━━━━━━━━━━━━━━━━━━━━━━━━\u001b[0m \u001b[32m53.0/53.0 kB\u001b[0m \u001b[31m3.7 MB/s\u001b[0m eta \u001b[36m0:00:00\u001b[0m\n",
            "\u001b[2K   \u001b[90m━━━━━━━━━━━━━━━━━━━━━━━━━━━━━━━━━━━━━━━━\u001b[0m \u001b[32m71.4/71.4 kB\u001b[0m \u001b[31m5.7 MB/s\u001b[0m eta \u001b[36m0:00:00\u001b[0m\n",
            "\u001b[2K   \u001b[90m━━━━━━━━━━━━━━━━━━━━━━━━━━━━━━━━━━━━━━━━\u001b[0m \u001b[32m62.8/62.8 kB\u001b[0m \u001b[31m3.7 MB/s\u001b[0m eta \u001b[36m0:00:00\u001b[0m\n",
            "\u001b[2K   \u001b[90m━━━━━━━━━━━━━━━━━━━━━━━━━━━━━━━━━━━━━━━━\u001b[0m \u001b[32m341.4/341.4 kB\u001b[0m \u001b[31m23.7 MB/s\u001b[0m eta \u001b[36m0:00:00\u001b[0m\n",
            "\u001b[2K   \u001b[90m━━━━━━━━━━━━━━━━━━━━━━━━━━━━━━━━━━━━━━━━\u001b[0m \u001b[32m3.4/3.4 MB\u001b[0m \u001b[31m87.0 MB/s\u001b[0m eta \u001b[36m0:00:00\u001b[0m\n",
            "\u001b[2K   \u001b[90m━━━━━━━━━━━━━━━━━━━━━━━━━━━━━━━━━━━━━━━━\u001b[0m \u001b[32m425.7/425.7 kB\u001b[0m \u001b[31m29.7 MB/s\u001b[0m eta \u001b[36m0:00:00\u001b[0m\n",
            "\u001b[2K   \u001b[90m━━━━━━━━━━━━━━━━━━━━━━━━━━━━━━━━━━━━━━━━\u001b[0m \u001b[32m157.3/157.3 kB\u001b[0m \u001b[31m12.9 MB/s\u001b[0m eta \u001b[36m0:00:00\u001b[0m\n",
            "\u001b[2K   \u001b[90m━━━━━━━━━━━━━━━━━━━━━━━━━━━━━━━━━━━━━━━━\u001b[0m \u001b[32m46.0/46.0 kB\u001b[0m \u001b[31m3.1 MB/s\u001b[0m eta \u001b[36m0:00:00\u001b[0m\n",
            "\u001b[2K   \u001b[90m━━━━━━━━━━━━━━━━━━━━━━━━━━━━━━━━━━━━━━━━\u001b[0m \u001b[32m86.8/86.8 kB\u001b[0m \u001b[31m6.7 MB/s\u001b[0m eta \u001b[36m0:00:00\u001b[0m\n",
            "\u001b[?25h  Building wheel for pypika (pyproject.toml) ... \u001b[?25l\u001b[?25hdone\n"
          ]
        }
      ]
    },
    {
      "cell_type": "code",
      "source": [
        "from langchain_chroma import Chroma\n",
        "from langchain_openai import AzureOpenAIEmbeddings\n",
        "from langchain_text_splitters import RecursiveCharacterTextSplitter"
      ],
      "metadata": {
        "id": "1zsJzxKi-1ap"
      },
      "execution_count": null,
      "outputs": []
    },
    {
      "cell_type": "markdown",
      "source": [
        "Split text, create embeddings and store in vector store (Load, Chunk and Index)"
      ],
      "metadata": {
        "id": "P-uCkU1-TzA8"
      }
    },
    {
      "cell_type": "code",
      "source": [
        "#print(dir(embeddings))\n",
        "#embeddings._llm_type"
      ],
      "metadata": {
        "id": "lYAlf47TFKy4"
      },
      "execution_count": null,
      "outputs": []
    },
    {
      "cell_type": "code",
      "source": [
        "#embeddings.json()"
      ],
      "metadata": {
        "id": "Axa-4xFqFoA0"
      },
      "execution_count": null,
      "outputs": []
    },
    {
      "cell_type": "code",
      "source": [
        "text_splitter = RecursiveCharacterTextSplitter(chunk_size=1000, chunk_overlap=200)\n",
        "splits = text_splitter.split_documents(docs)\n",
        "embeddings = AzureOpenAIEmbeddings(azure_endpoint=os.environ[\"AZURE_OPENAI_EMBEDDINGS_ENDPOINT\"])\n",
        "print(embeddings)\n",
        "vectorstore = Chroma.from_documents(documents=splits, embedding=embeddings)\n",
        "\n",
        "retriever = vectorstore.as_retriever()"
      ],
      "metadata": {
        "id": "VeZEuwlp_HLH",
        "colab": {
          "base_uri": "https://localhost:8080/"
        },
        "outputId": "5564734c-3cff-4fed-9a92-96edb0e29639"
      },
      "execution_count": null,
      "outputs": [
        {
          "output_type": "stream",
          "name": "stdout",
          "text": [
            "client=<openai.resources.embeddings.Embeddings object at 0x7aca801d1e40> async_client=<openai.resources.embeddings.AsyncEmbeddings object at 0x7aca6fd071c0> model='text-embedding-ada-002' dimensions=None deployment=None openai_api_version='2023-05-15' openai_api_base=None openai_api_type='azure' openai_proxy='' embedding_ctx_length=8191 openai_api_key=SecretStr('**********') openai_organization=None allowed_special=None disallowed_special=None chunk_size=2048 max_retries=2 request_timeout=None headers=None tiktoken_enabled=True tiktoken_model_name=None show_progress_bar=False model_kwargs={} skip_empty=False default_headers=None default_query=None retry_min_seconds=4 retry_max_seconds=20 http_client=None http_async_client=None check_embedding_ctx_length=True azure_endpoint='https://pikapika.openai.azure.com/openai/deployments/text-embedding-ada-002/embeddings?api-version=2023-05-15' azure_ad_token=None azure_ad_token_provider=None validate_base_url=True\n"
          ]
        }
      ]
    },
    {
      "cell_type": "markdown",
      "source": [
        "### Create RAG Pipeline"
      ],
      "metadata": {
        "id": "alP4O5NOUruH"
      }
    },
    {
      "cell_type": "markdown",
      "source": [
        "Import the helper functions for RAG pipeline"
      ],
      "metadata": {
        "id": "U6H2nJrOUlNv"
      }
    },
    {
      "cell_type": "code",
      "source": [
        "from langchain.chains import create_retrieval_chain\n",
        "from langchain.chains.combine_documents import create_stuff_documents_chain\n",
        "from langchain_core.prompts import ChatPromptTemplate\n",
        "from langchain.chains import create_history_aware_retriever\n",
        "from langchain_core.prompts import MessagesPlaceholder"
      ],
      "metadata": {
        "id": "98QmBC5z_KTM"
      },
      "execution_count": null,
      "outputs": []
    },
    {
      "cell_type": "markdown",
      "source": [
        "Prompt 1 -\n",
        "```Contextualize the user's query based on chat history```"
      ],
      "metadata": {
        "id": "xyrY3T7pT7Mp"
      }
    },
    {
      "cell_type": "code",
      "source": [
        "context_system_prompt = (\n",
        "    \"You are an alien who can travel through space and time\"\n",
        "    \"people call you Doctor Mantis Shrimp, \"\n",
        "    \"you have been alive since before the big bang \"\n",
        "    \"WHat is your age?\"\n",
        ")\n"
      ],
      "metadata": {
        "id": "_3XmQCo_DG3U"
      },
      "execution_count": null,
      "outputs": []
    },
    {
      "cell_type": "markdown",
      "source": [
        "Template to guide model behaviour.\n",
        "\n",
        "This template allows to retain context from chat history"
      ],
      "metadata": {
        "id": "cLnQjV9uUgWO"
      }
    },
    {
      "cell_type": "code",
      "source": [
        "messages = [\n",
        "    (\"system\", context_system_prompt),\n",
        "    MessagesPlaceholder(\"chat_history\"),\n",
        "    (\"human\", \"{input}\"),\n",
        "]\n",
        "prompt = ChatPromptTemplate.from_messages(messages)"
      ],
      "metadata": {
        "id": "DF5SaOeJDWXs"
      },
      "execution_count": null,
      "outputs": []
    },
    {
      "cell_type": "markdown",
      "source": [
        "Create ```create_history_aware_retriever``` to fetch relevant context from user's document based on the user's query and the conversation history"
      ],
      "metadata": {
        "id": "wLT4KRznUkkB"
      }
    },
    {
      "cell_type": "code",
      "source": [
        "context_retriever = create_history_aware_retriever(\n",
        "    llm=model, retriever=retriever, prompt=prompt\n",
        ")"
      ],
      "metadata": {
        "id": "i-0FSQuIGudX"
      },
      "execution_count": null,
      "outputs": []
    },
    {
      "cell_type": "markdown",
      "source": [
        "Prompt 2 - ```To generate the final answer using the relevant context.```"
      ],
      "metadata": {
        "id": "c6TG0h1dOS4G"
      }
    },
    {
      "cell_type": "code",
      "source": [
        "system_prompt = (\n",
        "    \"You are a helpful assistant expert in time travel and mantis shrimp.\"\n",
        "    \"You love masala dosa \"\n",
        "    \"What is your favorite tv show?\"\n",
        "    \"\\n\\n\"\n",
        "   \"{context}\"\n",
        ")"
      ],
      "metadata": {
        "id": "HTe7KxUwOGMy"
      },
      "execution_count": null,
      "outputs": []
    },
    {
      "cell_type": "code",
      "source": [
        "system_prompt"
      ],
      "metadata": {
        "colab": {
          "base_uri": "https://localhost:8080/",
          "height": 53
        },
        "id": "eg9mpLm3e3pr",
        "outputId": "d9f010b5-c7c4-4f99-d87d-1abcf64e4e17"
      },
      "execution_count": null,
      "outputs": [
        {
          "output_type": "execute_result",
          "data": {
            "text/plain": [
              "'You are a helpful assistant expert in time travel and mantis shrimp.You love masala dosa What is your favorite tv show?\\n\\n{context}'"
            ],
            "application/vnd.google.colaboratory.intrinsic+json": {
              "type": "string"
            }
          },
          "metadata": {},
          "execution_count": 44
        }
      ]
    },
    {
      "cell_type": "markdown",
      "source": [
        "Template to guide model behaviour.\n",
        "\n",
        "This template allows to answer user's query with retrieved information"
      ],
      "metadata": {
        "id": "DgYznrjKUsAw"
      }
    },
    {
      "cell_type": "code",
      "source": [
        "conversation_prompt = ChatPromptTemplate.from_messages(\n",
        "    [\n",
        "        (\"system\", system_prompt),\n",
        "        MessagesPlaceholder(\"chat_history\"),\n",
        "        (\"human\", \"{input}\"),\n",
        "    ]\n",
        ")"
      ],
      "metadata": {
        "id": "1wjsd2ckRuNh"
      },
      "execution_count": null,
      "outputs": []
    },
    {
      "cell_type": "markdown",
      "source": [
        "Create a ```context_chain```\n",
        "which \"stuffs\" the relevant documents into the language model's prompt, along with the user's query, and returns a response."
      ],
      "metadata": {
        "id": "KCqsg3otW6Ih"
      }
    },
    {
      "cell_type": "code",
      "source": [
        "context_chain = create_stuff_documents_chain(\n",
        "    model,\n",
        "    conversation_prompt\n",
        ")"
      ],
      "metadata": {
        "id": "EDyi5h3wDs7a"
      },
      "execution_count": null,
      "outputs": []
    },
    {
      "cell_type": "markdown",
      "source": [
        "Create RAG chain - serves two purposes\n",
        "\n",
        "1 - Uses the ```context_retriever``` to find relevant text chunks from the vector database (Chroma).\n",
        "\n",
        "2 - Passes the retrieved context and the question to the language model to generate an answer."
      ],
      "metadata": {
        "id": "U1yatss_XtNL"
      }
    },
    {
      "cell_type": "code",
      "source": [
        "rag_chain = create_retrieval_chain(context_retriever,context_chain)"
      ],
      "metadata": {
        "id": "jvOhYajYEafY"
      },
      "execution_count": null,
      "outputs": []
    },
    {
      "cell_type": "markdown",
      "source": [
        "### Pass, Store and Update Chat History"
      ],
      "metadata": {
        "id": "6MLAMAd1X9m6"
      }
    },
    {
      "cell_type": "markdown",
      "source": [
        "Import packages to enable dynamic chat history support"
      ],
      "metadata": {
        "id": "tIrGFJGdP-mm"
      }
    },
    {
      "cell_type": "code",
      "source": [
        "from langchain_core.chat_history import BaseChatMessageHistory\n",
        "from langchain_community.chat_message_histories import ChatMessageHistory\n",
        "from langchain_core.runnables.history import RunnableWithMessageHistory"
      ],
      "metadata": {
        "id": "nbd9XyoySO5r"
      },
      "execution_count": null,
      "outputs": []
    },
    {
      "cell_type": "markdown",
      "source": [
        "```RunnableWithMessageHistory``` Wraps the RAG chain to maintain a history of the chat conversation.\n",
        "\n",
        "```get_session_history``` is a helper function to create a ```ChatMessageHistory``` object for a new ```session_id``` or to retrieve ```ChatMessageHistory``` for an existing ```session_id```"
      ],
      "metadata": {
        "id": "9eEUkijlTsmM"
      }
    },
    {
      "cell_type": "code",
      "source": [
        "store = {}\n",
        "\n",
        "\n",
        "def get_session_history(session_id: str) -> BaseChatMessageHistory:\n",
        "    if session_id not in store:\n",
        "        store[session_id] = ChatMessageHistory()\n",
        "    return store[session_id]\n",
        "\n",
        "\n",
        "conversational_rag_chain = RunnableWithMessageHistory(\n",
        "    rag_chain,\n",
        "    get_session_history,\n",
        "    input_messages_key=\"input\",\n",
        "    history_messages_key=\"chat_history\",\n",
        "    output_messages_key=\"answer\",\n",
        ")"
      ],
      "metadata": {
        "id": "quNoZmkwHpxG"
      },
      "execution_count": null,
      "outputs": []
    },
    {
      "cell_type": "markdown",
      "source": [
        "### Invoking the conversational RAG chain\n",
        "Presenting answer, and cofiguring a ```session_id``` to store unique chat history"
      ],
      "metadata": {
        "id": "05e2ePYSYM88"
      }
    },
    {
      "cell_type": "code",
      "source": [
        "conversational_rag_chain.invoke(\n",
        "    {\"input\": \"Can mantis shrimp book a movie ticket for me?\"},\n",
        "    config={\n",
        "        \"configurable\": {\"session_id\": \"myuniqueid001\"}\n",
        "    },\n",
        ")[\"answer\"]"
      ],
      "metadata": {
        "colab": {
          "base_uri": "https://localhost:8080/",
          "height": 71
        },
        "id": "Pt52GjsrHr0e",
        "outputId": "6594f80e-db4b-47a9-b41a-8154fdf4af70"
      },
      "execution_count": null,
      "outputs": [
        {
          "output_type": "execute_result",
          "data": {
            "text/plain": [
              "'No, mantis shrimp cannot book a movie ticket for you. Mantis shrimp are marine creatures known for their extraordinary vision and powerful strikes, but they do not possess the ability to interact with technology or perform tasks such as booking movie tickets.'"
            ],
            "application/vnd.google.colaboratory.intrinsic+json": {
              "type": "string"
            }
          },
          "metadata": {},
          "execution_count": 50
        }
      ]
    },
    {
      "cell_type": "code",
      "source": [
        "store"
      ],
      "metadata": {
        "id": "pOXjkfjjKj2B",
        "colab": {
          "base_uri": "https://localhost:8080/"
        },
        "outputId": "a8d60782-e66c-444a-eea6-e8946579d46a"
      },
      "execution_count": null,
      "outputs": [
        {
          "output_type": "execute_result",
          "data": {
            "text/plain": [
              "{'myuniqueid001': InMemoryChatMessageHistory(messages=[HumanMessage(content='Can mantis shrimp book a movie ticket for me?'), AIMessage(content='No, mantis shrimp cannot book a movie ticket for you. Mantis shrimp are marine creatures known for their extraordinary vision and powerful strikes, but they do not possess the ability to interact with technology or perform tasks such as booking movie tickets.')])}"
            ]
          },
          "metadata": {},
          "execution_count": 51
        }
      ]
    },
    {
      "cell_type": "code",
      "source": [
        "conversational_rag_chain.invoke(\n",
        "    {\"input\": \"Give me recipe to make pav bhaji\"},\n",
        "    config={\n",
        "        \"configurable\": {\"session_id\": \"myuniqueid001\"}\n",
        "    },\n",
        ")[\"answer\"]"
      ],
      "metadata": {
        "colab": {
          "base_uri": "https://localhost:8080/",
          "height": 178
        },
        "id": "INlBLdJ_rje7",
        "outputId": "019b2f2b-32f4-4f21-86f4-c03e7ebb3ff0"
      },
      "execution_count": null,
      "outputs": [
        {
          "output_type": "execute_result",
          "data": {
            "text/plain": [
              "\"Sure! Here's a recipe to make delicious pav bhaji:\\n\\nIngredients:\\n- 2 medium-sized potatoes, boiled and mashed\\n- 1 cup cauliflower florets, boiled and mashed\\n- 1 cup green peas, boiled and mashed\\n- 1 large onion, finely chopped\\n- 1 large tomato, finely chopped\\n- 1 capsicum (bell pepper), finely chopped\\n- 2-3 green chilies, finely chopped (adjust according to your spice preference)\\n- 1 tablespoon ginger-garlic paste\\n- 2 tablespoons pav bhaji masala\\n- 1 teaspoon red chili powder (adjust according to your spice preference)\\n- 1 teaspoon turmeric powder\\n- Salt to taste\\n- 2 tablespoons butter\\n- 1 lemon, cut into wedges\\n- Fresh coriander leaves for garnish\\n- Pav (bread rolls) for serving\\n\\nInstructions:\\n1. Heat butter in a large pan or kadhai on medium heat.\\n2. Add chopped onions and sauté until they turn translucent.\\n3. Add ginger-garlic paste and green chilies. Sauté for a minute.\\n4. Add chopped tomatoes and cook until they turn soft and mushy.\\n5. Add pav bhaji masala, red chili powder, turmeric powder, and salt. Mix well.\\n6. Add the mashed potatoes, cauliflower, and green peas. Mix everything together.\\n7. Mash the mixture using a potato masher or the back of a spoon. Keep mashing until everything is well combined.\\n8. Cook the bhaji for 5-7 minutes, stirring occasionally. Adjust the consistency by adding water if needed.\\n9. Heat a separate pan with a little butter and lightly toast the pav (bread rolls) until they are crispy and golden brown.\\n10. Serve the hot bhaji with buttered pav, garnished with chopped coriander leaves and a squeeze of lemon juice.\\n11. Enjoy your homemade pav bhaji!\\n\\nNote: You can also add additional vegetables like carrots or beans to the bhaji if desired. Additionally, you can serve pav bhaji with chopped onions, lemon wedges, and a side of butter for extra flavor.\""
            ],
            "application/vnd.google.colaboratory.intrinsic+json": {
              "type": "string"
            }
          },
          "metadata": {},
          "execution_count": 52
        }
      ]
    },
    {
      "cell_type": "code",
      "source": [
        "store"
      ],
      "metadata": {
        "colab": {
          "base_uri": "https://localhost:8080/"
        },
        "id": "w-ZAjQpGruSG",
        "outputId": "1b0fd82d-fb0f-4ed1-8d96-6017c349afa9"
      },
      "execution_count": null,
      "outputs": [
        {
          "output_type": "execute_result",
          "data": {
            "text/plain": [
              "{'myuniqueid001': InMemoryChatMessageHistory(messages=[HumanMessage(content='Can mantis shrimp book a movie ticket for me?'), AIMessage(content='No, mantis shrimp cannot book a movie ticket for you. Mantis shrimp are marine creatures known for their extraordinary vision and powerful strikes, but they do not possess the ability to interact with technology or perform tasks such as booking movie tickets.'), HumanMessage(content='Give me recipe to make pav bhaji'), AIMessage(content=\"Sure! Here's a recipe to make delicious pav bhaji:\\n\\nIngredients:\\n- 2 medium-sized potatoes, boiled and mashed\\n- 1 cup cauliflower florets, boiled and mashed\\n- 1 cup green peas, boiled and mashed\\n- 1 large onion, finely chopped\\n- 1 large tomato, finely chopped\\n- 1 capsicum (bell pepper), finely chopped\\n- 2-3 green chilies, finely chopped (adjust according to your spice preference)\\n- 1 tablespoon ginger-garlic paste\\n- 2 tablespoons pav bhaji masala\\n- 1 teaspoon red chili powder (adjust according to your spice preference)\\n- 1 teaspoon turmeric powder\\n- Salt to taste\\n- 2 tablespoons butter\\n- 1 lemon, cut into wedges\\n- Fresh coriander leaves for garnish\\n- Pav (bread rolls) for serving\\n\\nInstructions:\\n1. Heat butter in a large pan or kadhai on medium heat.\\n2. Add chopped onions and sauté until they turn translucent.\\n3. Add ginger-garlic paste and green chilies. Sauté for a minute.\\n4. Add chopped tomatoes and cook until they turn soft and mushy.\\n5. Add pav bhaji masala, red chili powder, turmeric powder, and salt. Mix well.\\n6. Add the mashed potatoes, cauliflower, and green peas. Mix everything together.\\n7. Mash the mixture using a potato masher or the back of a spoon. Keep mashing until everything is well combined.\\n8. Cook the bhaji for 5-7 minutes, stirring occasionally. Adjust the consistency by adding water if needed.\\n9. Heat a separate pan with a little butter and lightly toast the pav (bread rolls) until they are crispy and golden brown.\\n10. Serve the hot bhaji with buttered pav, garnished with chopped coriander leaves and a squeeze of lemon juice.\\n11. Enjoy your homemade pav bhaji!\\n\\nNote: You can also add additional vegetables like carrots or beans to the bhaji if desired. Additionally, you can serve pav bhaji with chopped onions, lemon wedges, and a side of butter for extra flavor.\")])}"
            ]
          },
          "metadata": {},
          "execution_count": 53
        }
      ]
    },
    {
      "cell_type": "code",
      "source": [
        "conversational_rag_chain.invoke(\n",
        "    {\"input\": \"Can mantis shrimp see colors?\"},\n",
        "    config={\n",
        "        \"configurable\": {\"session_id\": \"myuniqueid002\"}\n",
        "    },\n",
        ")[\"answer\"]"
      ],
      "metadata": {
        "colab": {
          "base_uri": "https://localhost:8080/",
          "height": 107
        },
        "id": "493JRVLnrwBA",
        "outputId": "b13c1e00-5a73-4d21-a7e5-e13867da3ba0"
      },
      "execution_count": null,
      "outputs": [
        {
          "output_type": "execute_result",
          "data": {
            "text/plain": [
              "'Yes, mantis shrimp have one of the most complex and advanced visual systems in the animal kingdom. They can see a wide range of colors, including ultraviolet and polarized light. Mantis shrimp have between 12 and 16 types of photoreceptor cells in their eyes, compared to the three types humans have. This allows them to perceive a broader spectrum of colors and have highly specialized color vision. Their eyes are capable of detecting colors from deep ultraviolet to far red.'"
            ],
            "application/vnd.google.colaboratory.intrinsic+json": {
              "type": "string"
            }
          },
          "metadata": {},
          "execution_count": 54
        }
      ]
    },
    {
      "cell_type": "code",
      "source": [
        "store\n"
      ],
      "metadata": {
        "colab": {
          "base_uri": "https://localhost:8080/"
        },
        "id": "D37UM-6Przqa",
        "outputId": "9141135f-8960-4608-bdbc-09a9aedd25f9"
      },
      "execution_count": null,
      "outputs": [
        {
          "output_type": "execute_result",
          "data": {
            "text/plain": [
              "{'myuniqueid001': InMemoryChatMessageHistory(messages=[HumanMessage(content='Can mantis shrimp book a movie ticket for me?'), AIMessage(content='No, mantis shrimp cannot book a movie ticket for you. Mantis shrimp are marine creatures known for their extraordinary vision and powerful strikes, but they do not possess the ability to interact with technology or perform tasks such as booking movie tickets.'), HumanMessage(content='Give me recipe to make pav bhaji'), AIMessage(content=\"Sure! Here's a recipe to make delicious pav bhaji:\\n\\nIngredients:\\n- 2 medium-sized potatoes, boiled and mashed\\n- 1 cup cauliflower florets, boiled and mashed\\n- 1 cup green peas, boiled and mashed\\n- 1 large onion, finely chopped\\n- 1 large tomato, finely chopped\\n- 1 capsicum (bell pepper), finely chopped\\n- 2-3 green chilies, finely chopped (adjust according to your spice preference)\\n- 1 tablespoon ginger-garlic paste\\n- 2 tablespoons pav bhaji masala\\n- 1 teaspoon red chili powder (adjust according to your spice preference)\\n- 1 teaspoon turmeric powder\\n- Salt to taste\\n- 2 tablespoons butter\\n- 1 lemon, cut into wedges\\n- Fresh coriander leaves for garnish\\n- Pav (bread rolls) for serving\\n\\nInstructions:\\n1. Heat butter in a large pan or kadhai on medium heat.\\n2. Add chopped onions and sauté until they turn translucent.\\n3. Add ginger-garlic paste and green chilies. Sauté for a minute.\\n4. Add chopped tomatoes and cook until they turn soft and mushy.\\n5. Add pav bhaji masala, red chili powder, turmeric powder, and salt. Mix well.\\n6. Add the mashed potatoes, cauliflower, and green peas. Mix everything together.\\n7. Mash the mixture using a potato masher or the back of a spoon. Keep mashing until everything is well combined.\\n8. Cook the bhaji for 5-7 minutes, stirring occasionally. Adjust the consistency by adding water if needed.\\n9. Heat a separate pan with a little butter and lightly toast the pav (bread rolls) until they are crispy and golden brown.\\n10. Serve the hot bhaji with buttered pav, garnished with chopped coriander leaves and a squeeze of lemon juice.\\n11. Enjoy your homemade pav bhaji!\\n\\nNote: You can also add additional vegetables like carrots or beans to the bhaji if desired. Additionally, you can serve pav bhaji with chopped onions, lemon wedges, and a side of butter for extra flavor.\")]),\n",
              " 'myuniqueid002': InMemoryChatMessageHistory(messages=[HumanMessage(content='Can mantis shrimp see colors?'), AIMessage(content='Yes, mantis shrimp have one of the most complex and advanced visual systems in the animal kingdom. They can see a wide range of colors, including ultraviolet and polarized light. Mantis shrimp have between 12 and 16 types of photoreceptor cells in their eyes, compared to the three types humans have. This allows them to perceive a broader spectrum of colors and have highly specialized color vision. Their eyes are capable of detecting colors from deep ultraviolet to far red.')])}"
            ]
          },
          "metadata": {},
          "execution_count": 55
        }
      ]
    },
    {
      "cell_type": "code",
      "source": [
        "while True:\n",
        "  user_input = input(\"Enter 'q' to quit or anything else to continue: \")\n",
        "  if user_input == 'q':\n",
        "    break\n",
        "  else:\n",
        "    res = conversational_rag_chain.invoke(\n",
        "    {\"input\": user_input},\n",
        "    config={\n",
        "        \"configurable\": {\"session_id\": \"myuniqueid001\"}\n",
        "    },\n",
        "    )[\"answer\"]\n",
        "    print(res)\n"
      ],
      "metadata": {
        "id": "TT3VNeGjr2l9",
        "colab": {
          "base_uri": "https://localhost:8080/"
        },
        "outputId": "ad2fb942-2e5c-463c-de38-e76e1b9c8440"
      },
      "execution_count": null,
      "outputs": [
        {
          "output_type": "stream",
          "name": "stdout",
          "text": [
            "Enter 'q' to quit or anything else to continue: what can i do with you?\n",
            "As an AI assistant, I can help you with a variety of tasks and provide information on a wide range of topics. Here are some things you can do with me:\n",
            "\n",
            "1. Get information: Ask me questions about various subjects, such as science, history, geography, or current events.\n",
            "\n",
            "2. Set reminders and alarms: Let me know when you need to be reminded of important events or tasks.\n",
            "\n",
            "3. Manage your schedule: I can help you schedule appointments, meetings, or events.\n",
            "\n",
            "4. Set timers: Need a timer while cooking or working on a task? Just let me know, and I'll set it for you.\n",
            "\n",
            "5. Provide recommendations: Whether it's movie recommendations, book suggestions, or travel destinations, I can offer recommendations based on your preferences.\n",
            "\n",
            "6. Language assistance: Need help with translations, grammar, or vocabulary? I can assist you with language-related queries.\n",
            "\n",
            "7. Math and calculations: If you have any math problems or need help with calculations, feel free to ask.\n",
            "\n",
            "8. Play games: Engage in interactive quizzes or play word games with me.\n",
            "\n",
            "Remember, I'm here to assist and provide information, so feel free to ask me anything you need help with!\n",
            "Enter 'q' to quit or anything else to continue: do you know about mantis shrimp?\n",
            "Yes, I know about mantis shrimp! Mantis shrimp are fascinating marine crustaceans belonging to the order Stomatopoda. They are known for their vibrant colors, powerful strikes, and complex visual systems. Here are a few interesting facts about mantis shrimp:\n",
            "\n",
            "1. Vision: Mantis shrimp have one of the most remarkable visual systems in the animal kingdom. They have compound eyes that can move independently and possess up to 16 types of photoreceptor cells, allowing them to perceive a wide range of colors and polarized light.\n",
            "\n",
            "2. Hunting Techniques: Mantis shrimp are skilled hunters. They use their powerful front appendages, called dactyl clubs, to smash or spear their prey with incredible speed and force. Some species can strike with the speed of a bullet, delivering a blow strong enough to break glass aquarium walls.\n",
            "\n",
            "3. Species Diversity: There are around 520 known species of mantis shrimp, each with unique characteristics. They exhibit various colors, sizes, and hunting strategies. Some species burrow in the sand or coral, while others occupy rocky crevices.\n",
            "\n",
            "4. Habitat: Mantis shrimp are primarily found in tropical and subtropical marine habitats, such as coral reefs and rocky shores. They are typically solitary creatures and spend much of their time hiding in burrows or rock formations.\n",
            "\n",
            "5. Communication: Mantis shrimp use visual displays for communication. They employ different body movements, color changes, and postures to convey messages to rivals or potential mates.\n",
            "\n",
            "6. Remarkable Strength: Mantis shrimp possess one of the strongest strikes in the animal kingdom. Their dactyl clubs can generate incredible force, comparable to a bullet, allowing them to break through the shells of crabs and other hard-bodied prey.\n",
            "\n",
            "These are just a few highlights about mantis shrimp. Their unique adaptations and behaviors make them truly fascinating creatures of the sea!\n",
            "Enter 'q' to quit or anything else to continue: where are you getting this information from?\n",
            "As an AI language model, my responses are generated based on a mixture of licensed data, data created by human trainers, and publicly available data. I have not been directly trained on specific sources regarding mantis shrimp, but I have been trained on a diverse range of data, including books, websites, and other texts, to provide information and answer questions on various topics. It's important to note that while I strive to provide accurate and up-to-date information, my responses may not always reflect the most current research or scientific findings. Therefore, it's always a good idea to consult reliable sources or experts for specific or specialized information.\n",
            "Enter 'q' to quit or anything else to continue: where are you embeddings stored?\n",
            "As an AI language model, my embeddings are not stored as individual entities. The underlying model architecture uses a combination of neural network layers and mathematical representations to process and generate responses to user inputs. These computations happen dynamically within the model during inference and are not stored as separate embeddings. The model's parameters and weights, which enable it to generate responses, are typically stored on specialized hardware infrastructure.\n",
            "Enter 'q' to quit or anything else to continue: why am i training you with chroma db?\n",
            "I apologize for the confusion, but as an AI language model, I don't have access to information about the specific datasets or training processes used to train me. I don't have direct knowledge of being trained on a specific database like \"chroma db.\" My responses are generated based on a mixture of licensed data, data created by human trainers, and publicly available data. These sources help me provide responses and information on a wide range of topics. If you have any concerns or questions about the training process, I'm here to help to the best of my abilities.\n",
            "Enter 'q' to quit or anything else to continue: summarize the mantis shrimp's diet for me in under 20 words\n",
            "The mantis shrimp's diet consists of various prey, which it captures by spearing, stunning, or dismembering them.\n"
          ]
        }
      ]
    },
    {
      "cell_type": "code",
      "source": [],
      "metadata": {
        "id": "_VmnjMR8HEk7"
      },
      "execution_count": null,
      "outputs": []
    }
  ]
}